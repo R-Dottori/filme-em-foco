{
 "cells": [
  {
   "cell_type": "markdown",
   "metadata": {},
   "source": [
    "## Leitura do Shapefile"
   ]
  },
  {
   "cell_type": "markdown",
   "metadata": {},
   "source": [
    "Shapefile:\n",
    "\n",
    "https://geo.mprj.mp.br/portal/home/item.html?id=385cc49696604038b45ca3bff671463a"
   ]
  },
  {
   "cell_type": "code",
   "execution_count": 14,
   "metadata": {},
   "outputs": [],
   "source": [
    "import geopandas as gpd\n",
    "\n",
    "shapefile_rj = gpd.read_file('../data/Regioes Administrativas - RAs - PCRJ.zip')"
   ]
  },
  {
   "cell_type": "code",
   "execution_count": 15,
   "metadata": {},
   "outputs": [
    {
     "data": {
      "text/html": [
       "<div>\n",
       "<style scoped>\n",
       "    .dataframe tbody tr th:only-of-type {\n",
       "        vertical-align: middle;\n",
       "    }\n",
       "\n",
       "    .dataframe tbody tr th {\n",
       "        vertical-align: top;\n",
       "    }\n",
       "\n",
       "    .dataframe thead th {\n",
       "        text-align: right;\n",
       "    }\n",
       "</style>\n",
       "<table border=\"1\" class=\"dataframe\">\n",
       "  <thead>\n",
       "    <tr style=\"text-align: right;\">\n",
       "      <th></th>\n",
       "      <th>regiao_adm</th>\n",
       "      <th>area_plane</th>\n",
       "      <th>codra</th>\n",
       "      <th>rp</th>\n",
       "      <th>cod_rp</th>\n",
       "      <th>municipio</th>\n",
       "      <th>globalid</th>\n",
       "      <th>created_us</th>\n",
       "      <th>created_da</th>\n",
       "      <th>last_edite</th>\n",
       "      <th>last_edi_1</th>\n",
       "      <th>Shape__Are</th>\n",
       "      <th>Shape__Len</th>\n",
       "      <th>geometry</th>\n",
       "    </tr>\n",
       "  </thead>\n",
       "  <tbody>\n",
       "    <tr>\n",
       "      <th>0</th>\n",
       "      <td>ANCHIETA</td>\n",
       "      <td>3</td>\n",
       "      <td>22</td>\n",
       "      <td>Pavuna</td>\n",
       "      <td>3.6</td>\n",
       "      <td>Rio de Janeiro</td>\n",
       "      <td>{7625C98F-6EA6-427C-B83B-6AB665D2615B}</td>\n",
       "      <td>None</td>\n",
       "      <td>0000/00/00</td>\n",
       "      <td>None</td>\n",
       "      <td>0000/00/00</td>\n",
       "      <td>0.001248</td>\n",
       "      <td>0.219675</td>\n",
       "      <td>POLYGON ((-43.38428 -22.82046, -43.38295 -22.8...</td>\n",
       "    </tr>\n",
       "    <tr>\n",
       "      <th>1</th>\n",
       "      <td>BANGU</td>\n",
       "      <td>5</td>\n",
       "      <td>17</td>\n",
       "      <td>Bangu</td>\n",
       "      <td>5.1</td>\n",
       "      <td>Rio de Janeiro</td>\n",
       "      <td>{3554D4F9-27B3-4244-BEAB-2BC6B7D45824}</td>\n",
       "      <td>None</td>\n",
       "      <td>0000/00/00</td>\n",
       "      <td>None</td>\n",
       "      <td>0000/00/00</td>\n",
       "      <td>0.005463</td>\n",
       "      <td>0.368109</td>\n",
       "      <td>POLYGON ((-43.45027 -22.85649, -43.45014 -22.8...</td>\n",
       "    </tr>\n",
       "    <tr>\n",
       "      <th>2</th>\n",
       "      <td>BARRA DA TIJUCA</td>\n",
       "      <td>4</td>\n",
       "      <td>24</td>\n",
       "      <td>Barra da Tijuca</td>\n",
       "      <td>4.2</td>\n",
       "      <td>Rio de Janeiro</td>\n",
       "      <td>{418AAAE3-4D74-4F89-8A02-BC4C2751B350}</td>\n",
       "      <td>None</td>\n",
       "      <td>0000/00/00</td>\n",
       "      <td>None</td>\n",
       "      <td>0000/00/00</td>\n",
       "      <td>0.014620</td>\n",
       "      <td>0.946553</td>\n",
       "      <td>MULTIPOLYGON (((-43.47008 -22.93407, -43.47017...</td>\n",
       "    </tr>\n",
       "    <tr>\n",
       "      <th>3</th>\n",
       "      <td>BOTAFOGO</td>\n",
       "      <td>2</td>\n",
       "      <td>4</td>\n",
       "      <td>Zona Sul</td>\n",
       "      <td>2.1</td>\n",
       "      <td>Rio de Janeiro</td>\n",
       "      <td>{52499251-9A75-4C4C-B4D3-8609176D2233}</td>\n",
       "      <td>None</td>\n",
       "      <td>0000/00/00</td>\n",
       "      <td>None</td>\n",
       "      <td>0000/00/00</td>\n",
       "      <td>0.001323</td>\n",
       "      <td>0.381187</td>\n",
       "      <td>MULTIPOLYGON (((-43.16832 -22.91096, -43.16829...</td>\n",
       "    </tr>\n",
       "    <tr>\n",
       "      <th>4</th>\n",
       "      <td>CAMPO GRANDE</td>\n",
       "      <td>5</td>\n",
       "      <td>18</td>\n",
       "      <td>Campo Grande</td>\n",
       "      <td>5.2</td>\n",
       "      <td>Rio de Janeiro</td>\n",
       "      <td>{40B3F287-2ADC-4B82-96EB-8B8BD0F8CD92}</td>\n",
       "      <td>None</td>\n",
       "      <td>0000/00/00</td>\n",
       "      <td>None</td>\n",
       "      <td>0000/00/00</td>\n",
       "      <td>0.012215</td>\n",
       "      <td>0.605426</td>\n",
       "      <td>POLYGON ((-43.51515 -22.85229, -43.51463 -22.8...</td>\n",
       "    </tr>\n",
       "  </tbody>\n",
       "</table>\n",
       "</div>"
      ],
      "text/plain": [
       "        regiao_adm area_plane  codra               rp cod_rp       municipio  \\\n",
       "0         ANCHIETA          3     22           Pavuna    3.6  Rio de Janeiro   \n",
       "1            BANGU          5     17            Bangu    5.1  Rio de Janeiro   \n",
       "2  BARRA DA TIJUCA          4     24  Barra da Tijuca    4.2  Rio de Janeiro   \n",
       "3         BOTAFOGO          2      4         Zona Sul    2.1  Rio de Janeiro   \n",
       "4     CAMPO GRANDE          5     18     Campo Grande    5.2  Rio de Janeiro   \n",
       "\n",
       "                                 globalid created_us  created_da last_edite  \\\n",
       "0  {7625C98F-6EA6-427C-B83B-6AB665D2615B}       None  0000/00/00       None   \n",
       "1  {3554D4F9-27B3-4244-BEAB-2BC6B7D45824}       None  0000/00/00       None   \n",
       "2  {418AAAE3-4D74-4F89-8A02-BC4C2751B350}       None  0000/00/00       None   \n",
       "3  {52499251-9A75-4C4C-B4D3-8609176D2233}       None  0000/00/00       None   \n",
       "4  {40B3F287-2ADC-4B82-96EB-8B8BD0F8CD92}       None  0000/00/00       None   \n",
       "\n",
       "   last_edi_1  Shape__Are  Shape__Len  \\\n",
       "0  0000/00/00    0.001248    0.219675   \n",
       "1  0000/00/00    0.005463    0.368109   \n",
       "2  0000/00/00    0.014620    0.946553   \n",
       "3  0000/00/00    0.001323    0.381187   \n",
       "4  0000/00/00    0.012215    0.605426   \n",
       "\n",
       "                                            geometry  \n",
       "0  POLYGON ((-43.38428 -22.82046, -43.38295 -22.8...  \n",
       "1  POLYGON ((-43.45027 -22.85649, -43.45014 -22.8...  \n",
       "2  MULTIPOLYGON (((-43.47008 -22.93407, -43.47017...  \n",
       "3  MULTIPOLYGON (((-43.16832 -22.91096, -43.16829...  \n",
       "4  POLYGON ((-43.51515 -22.85229, -43.51463 -22.8...  "
      ]
     },
     "execution_count": 15,
     "metadata": {},
     "output_type": "execute_result"
    }
   ],
   "source": [
    "shapefile_rj.head()"
   ]
  },
  {
   "cell_type": "code",
   "execution_count": 19,
   "metadata": {},
   "outputs": [
    {
     "data": {
      "text/plain": [
       "(33, 1)"
      ]
     },
     "execution_count": 19,
     "metadata": {},
     "output_type": "execute_result"
    }
   ],
   "source": [
    "shapefile_rj[['regiao_adm']].shape"
   ]
  },
  {
   "cell_type": "markdown",
   "metadata": {},
   "source": [
    "## Mapa com os polígonos do Shapefile"
   ]
  },
  {
   "cell_type": "code",
   "execution_count": 16,
   "metadata": {},
   "outputs": [
    {
     "data": {
      "text/plain": [
       "<folium.map.LayerControl at 0x1128e5f4260>"
      ]
     },
     "execution_count": 16,
     "metadata": {},
     "output_type": "execute_result"
    }
   ],
   "source": [
    "import folium\n",
    "\n",
    "lat = -22.92\n",
    "lon = -43.47\n",
    "\n",
    "mapa_rj = folium.Map(location=[lat, lon], zoom_start=10)\n",
    "\n",
    "folium.GeoJson(shapefile_rj.to_json(), name='Regiões Administrativas',\n",
    "                   style_function=lambda feature: {\n",
    "        'fillColor': '#fc6f6f',\n",
    "        'color': 'black',\n",
    "        'weight': 2,\n",
    "        'dashArray': '5, 5',\n",
    "        'fillOpacity': 0.5,\n",
    "    }\n",
    ").add_to(mapa_rj)\n",
    "\n",
    "folium.LayerControl().add_to(mapa_rj)"
   ]
  },
  {
   "cell_type": "code",
   "execution_count": 17,
   "metadata": {},
   "outputs": [],
   "source": [
    "import pandas as pd\n",
    "\n",
    "salas_rj = pd.read_csv('../data/salas_rj.csv', index_col=0)\n",
    "\n",
    "for idx, sala in salas_rj.iterrows():\n",
    "    folium.Marker(\n",
    "        location=[sala['latitude'], sala['longitude']],\n",
    "        popup=sala['name']\n",
    "    ).add_to(mapa_rj)"
   ]
  },
  {
   "cell_type": "code",
   "execution_count": 18,
   "metadata": {},
   "outputs": [],
   "source": [
    "mapa_rj.save('../data/mapa_rj.html')"
   ]
  }
 ],
 "metadata": {
  "kernelspec": {
   "display_name": ".venv_app",
   "language": "python",
   "name": "python3"
  },
  "language_info": {
   "codemirror_mode": {
    "name": "ipython",
    "version": 3
   },
   "file_extension": ".py",
   "mimetype": "text/x-python",
   "name": "python",
   "nbconvert_exporter": "python",
   "pygments_lexer": "ipython3",
   "version": "3.12.4"
  }
 },
 "nbformat": 4,
 "nbformat_minor": 2
}
