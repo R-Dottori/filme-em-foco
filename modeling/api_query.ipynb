{
 "cells": [
  {
   "cell_type": "markdown",
   "metadata": {},
   "source": [
    "## **Obtendo os dados da API do Ingresso.com**\n",
    "\n",
    "https://suporte.ingresso.com/portal/pt-br/kb/articles/integra%C3%A7%C3%A3o-com-a-api-de-conte%C3%BAdo-1-11-2022"
   ]
  },
  {
   "cell_type": "markdown",
   "metadata": {},
   "source": [
    "### Todas as salas do Rio de Janeiro\n",
    "\n",
    "Código do município = 2\n",
    "\n",
    "Theaters/city/2"
   ]
  },
  {
   "cell_type": "code",
   "execution_count": 3,
   "metadata": {},
   "outputs": [],
   "source": [
    "import requests\n",
    "\n",
    "UA = 'Mozilla/5.0 (Windows NT 10.0; Win64; x64) AppleWebKit/537.36 (KHTML, like Gecko) Chrome/127.0.0.0 Safari/537.36'\n",
    "\n",
    "raiz_api = 'https://api-content.ingresso.com/v0/{}'\n",
    "\n",
    "resp = requests.get(\n",
    "    url=raiz_api.format('Theaters/city/2'),\n",
    "    headers={'user-agent': UA}\n",
    "    )\n",
    "\n",
    "resp.raise_for_status()"
   ]
  },
  {
   "cell_type": "code",
   "execution_count": 4,
   "metadata": {},
   "outputs": [],
   "source": [
    "import pandas as pd\n",
    "\n",
    "dados_api_ingresso = resp.json()\n",
    "\n",
    "ingresso_rj = pd.DataFrame(dados_api_ingresso)"
   ]
  },
  {
   "cell_type": "code",
   "execution_count": 5,
   "metadata": {},
   "outputs": [
    {
     "name": "stdout",
     "output_type": "stream",
     "text": [
      "<class 'pandas.core.frame.DataFrame'>\n",
      "RangeIndex: 41 entries, 0 to 40\n",
      "Data columns (total 32 columns):\n",
      " #   Column                       Non-Null Count  Dtype \n",
      "---  ------                       --------------  ----- \n",
      " 0   id                           41 non-null     object\n",
      " 1   boxOfficeId                  41 non-null     object\n",
      " 2   images                       41 non-null     object\n",
      " 3   urlKey                       41 non-null     object\n",
      " 4   name                         41 non-null     object\n",
      " 5   siteURL                      41 non-null     object\n",
      " 6   nationalSiteURL              41 non-null     object\n",
      " 7   cnpj                         41 non-null     object\n",
      " 8   districtAuthorization        41 non-null     object\n",
      " 9   address                      41 non-null     object\n",
      " 10  addressComplement            41 non-null     object\n",
      " 11  number                       41 non-null     object\n",
      " 12  cityId                       41 non-null     object\n",
      " 13  cityName                     41 non-null     object\n",
      " 14  state                        41 non-null     object\n",
      " 15  uf                           41 non-null     object\n",
      " 16  neighborhood                 41 non-null     object\n",
      " 17  properties                   41 non-null     object\n",
      " 18  functionalities              41 non-null     object\n",
      " 19  telephones                   41 non-null     object\n",
      " 20  geolocation                  41 non-null     object\n",
      " 21  deliveryType                 41 non-null     object\n",
      " 22  corporation                  41 non-null     object\n",
      " 23  corporationId                41 non-null     object\n",
      " 24  corporationPriority          41 non-null     int64 \n",
      " 25  corporationAvatarBackground  41 non-null     object\n",
      " 26  rooms                        41 non-null     object\n",
      " 27  totalRooms                   41 non-null     int64 \n",
      " 28  enabled                      41 non-null     bool  \n",
      " 29  blockMessage                 41 non-null     object\n",
      " 30  partnershipType              0 non-null      object\n",
      " 31  operationPolicies            41 non-null     object\n",
      "dtypes: bool(1), int64(2), object(29)\n",
      "memory usage: 10.1+ KB\n"
     ]
    }
   ],
   "source": [
    "ingresso_rj.info()"
   ]
  },
  {
   "cell_type": "markdown",
   "metadata": {},
   "source": [
    "### Filtrando, separando as coordenadas e salvando os dados"
   ]
  },
  {
   "cell_type": "code",
   "execution_count": 52,
   "metadata": {},
   "outputs": [],
   "source": [
    "salas_rj = ingresso_rj[['id', 'name', 'neighborhood', 'geolocation']].copy()"
   ]
  },
  {
   "cell_type": "code",
   "execution_count": 53,
   "metadata": {},
   "outputs": [],
   "source": [
    "latitudes = []\n",
    "longitudes = []\n",
    "\n",
    "for coord in salas_rj['geolocation']:\n",
    "    latitudes.append(coord['lat'])\n",
    "    longitudes.append(coord['lng'])\n",
    "\n",
    "salas_rj['latitude'] = latitudes\n",
    "salas_rj['longitude'] = longitudes"
   ]
  },
  {
   "cell_type": "code",
   "execution_count": 100,
   "metadata": {},
   "outputs": [
    {
     "name": "stdout",
     "output_type": "stream",
     "text": [
      "0\n",
      "1\n",
      "2\n",
      "3\n",
      "4\n",
      "5\n",
      "6\n",
      "7\n",
      "8\n",
      "9\n",
      "10\n",
      "11\n",
      "12\n",
      "13\n",
      "14\n",
      "15\n",
      "16\n",
      "17\n",
      "18\n",
      "19\n",
      "20\n",
      "21\n",
      "22\n",
      "23\n",
      "24\n",
      "25\n",
      "26\n",
      "27\n",
      "28\n",
      "29\n",
      "30\n",
      "31\n",
      "32\n",
      "33\n",
      "34\n",
      "35\n",
      "36\n",
      "37\n",
      "38\n",
      "39\n",
      "40\n"
     ]
    }
   ],
   "source": [
    "for idx, sala in salas_rj.iterrows():\n",
    "    print(idx)"
   ]
  },
  {
   "cell_type": "code",
   "execution_count": 56,
   "metadata": {},
   "outputs": [
    {
     "data": {
      "text/html": [
       "<div>\n",
       "<style scoped>\n",
       "    .dataframe tbody tr th:only-of-type {\n",
       "        vertical-align: middle;\n",
       "    }\n",
       "\n",
       "    .dataframe tbody tr th {\n",
       "        vertical-align: top;\n",
       "    }\n",
       "\n",
       "    .dataframe thead th {\n",
       "        text-align: right;\n",
       "    }\n",
       "</style>\n",
       "<table border=\"1\" class=\"dataframe\">\n",
       "  <thead>\n",
       "    <tr style=\"text-align: right;\">\n",
       "      <th></th>\n",
       "      <th>id</th>\n",
       "      <th>name</th>\n",
       "      <th>neighborhood</th>\n",
       "      <th>latitude</th>\n",
       "      <th>longitude</th>\n",
       "    </tr>\n",
       "  </thead>\n",
       "  <tbody>\n",
       "    <tr>\n",
       "      <th>0</th>\n",
       "      <td>953</td>\n",
       "      <td>Cine Araújo Jardim Guadalupe</td>\n",
       "      <td>Guadalupe</td>\n",
       "      <td>-22.84113</td>\n",
       "      <td>-43.36908</td>\n",
       "    </tr>\n",
       "    <tr>\n",
       "      <th>1</th>\n",
       "      <td>1304</td>\n",
       "      <td>Cine Odeon - Centro Cultural Luiz Severiano Ri...</td>\n",
       "      <td>Centro</td>\n",
       "      <td>-22.91071</td>\n",
       "      <td>-43.17602</td>\n",
       "    </tr>\n",
       "    <tr>\n",
       "      <th>2</th>\n",
       "      <td>1463</td>\n",
       "      <td>Cine Santa Teresa</td>\n",
       "      <td>Santa Teresa</td>\n",
       "      <td>-22.92154</td>\n",
       "      <td>-43.18614</td>\n",
       "    </tr>\n",
       "    <tr>\n",
       "      <th>3</th>\n",
       "      <td>1046</td>\n",
       "      <td>CineCarioca Méier</td>\n",
       "      <td>Méier</td>\n",
       "      <td>-22.90269</td>\n",
       "      <td>-43.28203</td>\n",
       "    </tr>\n",
       "    <tr>\n",
       "      <th>4</th>\n",
       "      <td>1597</td>\n",
       "      <td>Cineflix Center Shopping Rio de Janeiro (RIO)</td>\n",
       "      <td>Tanque</td>\n",
       "      <td>-22.92484</td>\n",
       "      <td>-43.36103</td>\n",
       "    </tr>\n",
       "  </tbody>\n",
       "</table>\n",
       "</div>"
      ],
      "text/plain": [
       "     id                                               name  neighborhood  \\\n",
       "0   953                       Cine Araújo Jardim Guadalupe     Guadalupe   \n",
       "1  1304  Cine Odeon - Centro Cultural Luiz Severiano Ri...        Centro   \n",
       "2  1463                                  Cine Santa Teresa  Santa Teresa   \n",
       "3  1046                                  CineCarioca Méier         Méier   \n",
       "4  1597      Cineflix Center Shopping Rio de Janeiro (RIO)        Tanque   \n",
       "\n",
       "   latitude  longitude  \n",
       "0 -22.84113  -43.36908  \n",
       "1 -22.91071  -43.17602  \n",
       "2 -22.92154  -43.18614  \n",
       "3 -22.90269  -43.28203  \n",
       "4 -22.92484  -43.36103  "
      ]
     },
     "execution_count": 56,
     "metadata": {},
     "output_type": "execute_result"
    }
   ],
   "source": [
    "salas_rj.head()"
   ]
  },
  {
   "cell_type": "code",
   "execution_count": 55,
   "metadata": {},
   "outputs": [],
   "source": [
    "salas_rj.drop(columns='geolocation', axis=1, inplace=True)"
   ]
  },
  {
   "cell_type": "code",
   "execution_count": 57,
   "metadata": {},
   "outputs": [],
   "source": [
    "salas_rj.to_csv('../data/salas_rj.csv')"
   ]
  },
  {
   "cell_type": "markdown",
   "metadata": {},
   "source": [
    "### Vendo os filmes em exibição de uma sala qualquer\n",
    "\n",
    "Rio de Janeiro = 2\n",
    "\n",
    "Estação NET Rio = 34\n",
    "\n",
    "https://api-content.ingresso.com/v0/Sessions/city/2/theater/34"
   ]
  },
  {
   "cell_type": "code",
   "execution_count": 60,
   "metadata": {},
   "outputs": [],
   "source": [
    "import requests\n",
    "\n",
    "UA = 'Mozilla/5.0 (Windows NT 10.0; Win64; x64) AppleWebKit/537.36 (KHTML, like Gecko) Chrome/127.0.0.0 Safari/537.36'\n",
    "\n",
    "raiz_api = 'https://api-content.ingresso.com/v0/Sessions/city/{}/theater/{}'\n",
    "\n",
    "resp_estacao_net = requests.get(\n",
    "    url=raiz_api.format('2', '34'),\n",
    "    headers={'user-agent': UA}\n",
    "    )\n",
    "\n",
    "resp_estacao_net.raise_for_status()"
   ]
  },
  {
   "cell_type": "code",
   "execution_count": 87,
   "metadata": {},
   "outputs": [],
   "source": [
    "dados_estacao_net = resp_estacao_net.json()\n",
    "filmes_estacao_net = []\n",
    "\n",
    "for dia in dados_estacao_net:\n",
    "    for filme in dia['movies']:\n",
    "        filmes_estacao_net.append(filme)\n",
    "\n",
    "filmes_cartaz = pd.DataFrame(filmes_estacao_net)\n",
    "\n",
    "filmes_cartaz[['title', 'originalTitle']].drop_duplicates()"
   ]
  },
  {
   "cell_type": "code",
   "execution_count": 93,
   "metadata": {},
   "outputs": [
    {
     "data": {
      "text/html": [
       "<div>\n",
       "<style scoped>\n",
       "    .dataframe tbody tr th:only-of-type {\n",
       "        vertical-align: middle;\n",
       "    }\n",
       "\n",
       "    .dataframe tbody tr th {\n",
       "        vertical-align: top;\n",
       "    }\n",
       "\n",
       "    .dataframe thead th {\n",
       "        text-align: right;\n",
       "    }\n",
       "</style>\n",
       "<table border=\"1\" class=\"dataframe\">\n",
       "  <thead>\n",
       "    <tr style=\"text-align: right;\">\n",
       "      <th></th>\n",
       "      <th>title</th>\n",
       "      <th>originalTitle</th>\n",
       "    </tr>\n",
       "  </thead>\n",
       "  <tbody>\n",
       "    <tr>\n",
       "      <th>0</th>\n",
       "      <td>Batman - O filme (1989)</td>\n",
       "      <td>Batman</td>\n",
       "    </tr>\n",
       "    <tr>\n",
       "      <th>1</th>\n",
       "      <td>Bocaina</td>\n",
       "      <td>Bocaina</td>\n",
       "    </tr>\n",
       "    <tr>\n",
       "      <th>2</th>\n",
       "      <td>O Diabo Na Rua No Meio Do Redemunho</td>\n",
       "      <td>O Diabo Na Rua No Meio Do Redemunho</td>\n",
       "    </tr>\n",
       "    <tr>\n",
       "      <th>3</th>\n",
       "      <td>Bernadette</td>\n",
       "      <td>Bernadette</td>\n",
       "    </tr>\n",
       "    <tr>\n",
       "      <th>4</th>\n",
       "      <td>Tipos De Gentileza</td>\n",
       "      <td>Kinds Of Kindness</td>\n",
       "    </tr>\n",
       "    <tr>\n",
       "      <th>5</th>\n",
       "      <td>Motel Destino</td>\n",
       "      <td>Motel Destino</td>\n",
       "    </tr>\n",
       "    <tr>\n",
       "      <th>6</th>\n",
       "      <td>Sidonie No Japão</td>\n",
       "      <td>Sidonie ao Japan</td>\n",
       "    </tr>\n",
       "    <tr>\n",
       "      <th>7</th>\n",
       "      <td>A Viúva Clicquot – A Mulher Que Formou Um Império</td>\n",
       "      <td>Widow Clicquot</td>\n",
       "    </tr>\n",
       "    <tr>\n",
       "      <th>8</th>\n",
       "      <td>A Substância</td>\n",
       "      <td>The Substance</td>\n",
       "    </tr>\n",
       "    <tr>\n",
       "      <th>9</th>\n",
       "      <td>Fernanda Young - Foge-me Ao Controle</td>\n",
       "      <td>Fernanda Young - Foge-me Ao Controle</td>\n",
       "    </tr>\n",
       "    <tr>\n",
       "      <th>10</th>\n",
       "      <td>Golpe De Sorte Em Paris</td>\n",
       "      <td>Coup de Chance</td>\n",
       "    </tr>\n",
       "    <tr>\n",
       "      <th>18</th>\n",
       "      <td>Meu Amigo Pinguim</td>\n",
       "      <td>My Penguin Friend</td>\n",
       "    </tr>\n",
       "    <tr>\n",
       "      <th>24</th>\n",
       "      <td>Mishima: Uma Vida Em Quatro Tempos</td>\n",
       "      <td>Mishima: A Life in Four Chapters</td>\n",
       "    </tr>\n",
       "    <tr>\n",
       "      <th>35</th>\n",
       "      <td>Cinema De Pijama</td>\n",
       "      <td>Cinema de Pijama</td>\n",
       "    </tr>\n",
       "  </tbody>\n",
       "</table>\n",
       "</div>"
      ],
      "text/plain": [
       "                                                title  \\\n",
       "0                             Batman - O filme (1989)   \n",
       "1                                             Bocaina   \n",
       "2                 O Diabo Na Rua No Meio Do Redemunho   \n",
       "3                                          Bernadette   \n",
       "4                                  Tipos De Gentileza   \n",
       "5                                       Motel Destino   \n",
       "6                                    Sidonie No Japão   \n",
       "7   A Viúva Clicquot – A Mulher Que Formou Um Império   \n",
       "8                                        A Substância   \n",
       "9               Fernanda Young - Foge-me Ao Controle    \n",
       "10                            Golpe De Sorte Em Paris   \n",
       "18                                  Meu Amigo Pinguim   \n",
       "24                 Mishima: Uma Vida Em Quatro Tempos   \n",
       "35                                   Cinema De Pijama   \n",
       "\n",
       "                            originalTitle  \n",
       "0                                  Batman  \n",
       "1                                 Bocaina  \n",
       "2     O Diabo Na Rua No Meio Do Redemunho  \n",
       "3                              Bernadette  \n",
       "4                       Kinds Of Kindness  \n",
       "5                           Motel Destino  \n",
       "6                        Sidonie ao Japan  \n",
       "7                          Widow Clicquot  \n",
       "8                           The Substance  \n",
       "9   Fernanda Young - Foge-me Ao Controle   \n",
       "10                         Coup de Chance  \n",
       "18                      My Penguin Friend  \n",
       "24       Mishima: A Life in Four Chapters  \n",
       "35                       Cinema de Pijama  "
      ]
     },
     "execution_count": 93,
     "metadata": {},
     "output_type": "execute_result"
    }
   ],
   "source": [
    "filmes_cartaz[['title', 'originalTitle']].drop_duplicates()"
   ]
  }
 ],
 "metadata": {
  "kernelspec": {
   "display_name": ".venv_app",
   "language": "python",
   "name": "python3"
  },
  "language_info": {
   "codemirror_mode": {
    "name": "ipython",
    "version": 3
   },
   "file_extension": ".py",
   "mimetype": "text/x-python",
   "name": "python",
   "nbconvert_exporter": "python",
   "pygments_lexer": "ipython3",
   "version": "3.12.4"
  }
 },
 "nbformat": 4,
 "nbformat_minor": 2
}
